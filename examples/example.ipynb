{
 "cells": [
  {
   "attachments": {},
   "cell_type": "markdown",
   "metadata": {
    "pycharm": {
     "name": "#%% md\n"
    }
   },
   "source": [
    "# Dependencies\n",
    "***\n",
    "\n",
    "Uncomment and run cell below to install CityLearn and other dependencies for the internal RL agents."
   ]
  },
  {
   "cell_type": "code",
   "execution_count": 3,
   "metadata": {
    "pycharm": {
     "name": "#%%\n"
    }
   },
   "outputs": [
    {
     "name": "stdout",
     "output_type": "stream",
     "text": [
      "Requirement already satisfied: pip in c:\\users\\lmohsen\\anaconda3\\envs\\scientificproject\\lib\\site-packages (22.1.2)\n",
      "Collecting pip\n",
      "  Using cached pip-22.3.1-py3-none-any.whl (2.1 MB)\n"
     ]
    },
    {
     "name": "stderr",
     "output_type": "stream",
     "text": [
      "ERROR: To modify pip, please run the following command:\n",
      "C:\\Users\\lmohsen\\anaconda3\\envs\\scientificProject\\python.exe -m pip install --upgrade pip\n"
     ]
    },
    {
     "name": "stdout",
     "output_type": "stream",
     "text": [
      "Requirement already satisfied: CityLearn in c:\\users\\lmohsen\\anaconda3\\envs\\scientificproject\\lib\\site-packages (1.3.3)\n",
      "Collecting scikit-learn==1.0.2\n",
      "  Using cached scikit_learn-1.0.2-cp310-cp310-win_amd64.whl (7.2 MB)\n",
      "Requirement already satisfied: torch==1.12.0 in c:\\users\\lmohsen\\anaconda3\\envs\\scientificproject\\lib\\site-packages (1.12.0)\n",
      "Collecting torchvision==0.13.0\n",
      "  Using cached torchvision-0.13.0-cp310-cp310-win_amd64.whl (1.1 MB)\n",
      "Requirement already satisfied: scipy>=1.1.0 in c:\\users\\lmohsen\\anaconda3\\envs\\scientificproject\\lib\\site-packages (from scikit-learn==1.0.2) (1.7.3)\n",
      "Requirement already satisfied: numpy>=1.14.6 in c:\\users\\lmohsen\\anaconda3\\envs\\scientificproject\\lib\\site-packages (from scikit-learn==1.0.2) (1.21.6)\n",
      "Requirement already satisfied: joblib>=0.11 in c:\\users\\lmohsen\\anaconda3\\envs\\scientificproject\\lib\\site-packages (from scikit-learn==1.0.2) (1.1.1)\n",
      "Requirement already satisfied: threadpoolctl>=2.0.0 in c:\\users\\lmohsen\\anaconda3\\envs\\scientificproject\\lib\\site-packages (from scikit-learn==1.0.2) (2.2.0)\n",
      "Requirement already satisfied: typing-extensions in c:\\users\\lmohsen\\anaconda3\\envs\\scientificproject\\lib\\site-packages (from torch==1.12.0) (4.3.0)\n",
      "Requirement already satisfied: pillow!=8.3.*,>=5.3.0 in c:\\users\\lmohsen\\anaconda3\\envs\\scientificproject\\lib\\site-packages (from torchvision==0.13.0) (9.3.0)\n",
      "Collecting requests\n",
      "  Using cached requests-2.28.2-py3-none-any.whl (62 kB)\n",
      "Requirement already satisfied: simplejson==3.17.6 in c:\\users\\lmohsen\\anaconda3\\envs\\scientificproject\\lib\\site-packages (from CityLearn) (3.17.6)\n",
      "Requirement already satisfied: pandas==1.3.5 in c:\\users\\lmohsen\\anaconda3\\envs\\scientificproject\\lib\\site-packages (from CityLearn) (1.3.5)\n",
      "Requirement already satisfied: matplotlib in c:\\users\\lmohsen\\anaconda3\\envs\\scientificproject\\lib\\site-packages (from CityLearn) (3.6.2)\n",
      "Collecting pillow!=8.3.*,>=5.3.0\n",
      "  Using cached Pillow-9.2.0-cp310-cp310-win_amd64.whl (3.3 MB)\n",
      "Collecting gym==0.24.1\n",
      "  Using cached gym-0.24.1-py3-none-any.whl\n",
      "Requirement already satisfied: cloudpickle>=1.2.0 in c:\\users\\lmohsen\\anaconda3\\envs\\scientificproject\\lib\\site-packages (from gym==0.24.1->CityLearn) (1.2.2)\n",
      "Requirement already satisfied: gym-notices>=0.0.4 in c:\\users\\lmohsen\\anaconda3\\envs\\scientificproject\\lib\\site-packages (from gym==0.24.1->CityLearn) (0.0.7)\n",
      "Requirement already satisfied: python-dateutil>=2.7.3 in c:\\users\\lmohsen\\anaconda3\\envs\\scientificproject\\lib\\site-packages (from pandas==1.3.5->CityLearn) (2.8.2)\n",
      "Requirement already satisfied: pytz>=2017.3 in c:\\users\\lmohsen\\anaconda3\\envs\\scientificproject\\lib\\site-packages (from pandas==1.3.5->CityLearn) (2021.3)\n",
      "Requirement already satisfied: packaging>=20.0 in c:\\users\\lmohsen\\anaconda3\\envs\\scientificproject\\lib\\site-packages (from matplotlib->CityLearn) (22.0)\n",
      "Requirement already satisfied: fonttools>=4.22.0 in c:\\users\\lmohsen\\anaconda3\\envs\\scientificproject\\lib\\site-packages (from matplotlib->CityLearn) (4.34.4)\n",
      "Requirement already satisfied: cycler>=0.10 in c:\\users\\lmohsen\\anaconda3\\envs\\scientificproject\\lib\\site-packages (from matplotlib->CityLearn) (0.11.0)\n",
      "Requirement already satisfied: contourpy>=1.0.1 in c:\\users\\lmohsen\\anaconda3\\envs\\scientificproject\\lib\\site-packages (from matplotlib->CityLearn) (1.0.5)\n",
      "Requirement already satisfied: kiwisolver>=1.0.1 in c:\\users\\lmohsen\\anaconda3\\envs\\scientificproject\\lib\\site-packages (from matplotlib->CityLearn) (1.4.4)\n",
      "Requirement already satisfied: pyparsing>=2.2.1 in c:\\users\\lmohsen\\anaconda3\\envs\\scientificproject\\lib\\site-packages (from matplotlib->CityLearn) (3.0.9)\n",
      "Requirement already satisfied: certifi>=2017.4.17 in c:\\users\\lmohsen\\anaconda3\\envs\\scientificproject\\lib\\site-packages (from requests->torchvision==0.13.0) (2022.12.7)\n",
      "Requirement already satisfied: idna<4,>=2.5 in c:\\users\\lmohsen\\anaconda3\\envs\\scientificproject\\lib\\site-packages (from requests->torchvision==0.13.0) (3.4)\n",
      "Requirement already satisfied: urllib3<1.27,>=1.21.1 in c:\\users\\lmohsen\\anaconda3\\envs\\scientificproject\\lib\\site-packages (from requests->torchvision==0.13.0) (1.26.14)\n",
      "Requirement already satisfied: charset-normalizer<4,>=2 in c:\\users\\lmohsen\\anaconda3\\envs\\scientificproject\\lib\\site-packages (from requests->torchvision==0.13.0) (3.0.1)\n",
      "Requirement already satisfied: six>=1.5 in c:\\users\\lmohsen\\anaconda3\\envs\\scientificproject\\lib\\site-packages (from python-dateutil>=2.7.3->pandas==1.3.5->CityLearn) (1.16.0)\n",
      "Installing collected packages: requests, pillow, gym, torchvision, scikit-learn\n",
      "  Attempting uninstall: pillow\n",
      "    Found existing installation: Pillow 9.3.0\n",
      "    Uninstalling Pillow-9.3.0:\n",
      "      Successfully uninstalled Pillow-9.3.0\n",
      "  Rolling back uninstall of pillow\n",
      "  Moving to c:\\users\\lmohsen\\anaconda3\\envs\\scientificproject\\lib\\site-packages\\pil\\__init__.py\n",
      "   from C:\\Users\\lmohsen\\AppData\\Local\\Temp\\pip-uninstall-zhmhnxe6\\__init__.py\n",
      "  Moving to c:\\users\\lmohsen\\anaconda3\\envs\\scientificproject\\lib\\site-packages\\pil\\__main__.py\n",
      "   from C:\\Users\\lmohsen\\AppData\\Local\\Temp\\pip-uninstall-zhmhnxe6\\__main__.py\n",
      "  Moving to c:\\users\\lmohsen\\anaconda3\\envs\\scientificproject\\lib\\site-packages\\pil\\__pycache__\\\n",
      "   from C:\\Users\\lmohsen\\anaconda3\\envs\\scientificProject\\Lib\\site-packages\\PIL\\~_pycache__\n",
      "  Moving to c:\\users\\lmohsen\\anaconda3\\envs\\scientificproject\\lib\\site-packages\\pil\\_binary.py\n",
      "   from C:\\Users\\lmohsen\\AppData\\Local\\Temp\\pip-uninstall-zhmhnxe6\\_binary.py\n",
      "  Moving to c:\\users\\lmohsen\\anaconda3\\envs\\scientificproject\\lib\\site-packages\\pil\\_deprecate.py\n",
      "   from C:\\Users\\lmohsen\\AppData\\Local\\Temp\\pip-uninstall-zhmhnxe6\\_deprecate.py\n",
      "  Moving to c:\\users\\lmohsen\\anaconda3\\envs\\scientificproject\\lib\\site-packages\\pil\\_imaging.cp310-win_amd64.pyd\n",
      "   from C:\\Users\\lmohsen\\AppData\\Local\\Temp\\pip-uninstall-zhmhnxe6\\_imaging.cp310-win_amd64.pyd\n",
      "  Moving to c:\\users\\lmohsen\\anaconda3\\envs\\scientificproject\\lib\\site-packages\\pil\\_imagingft.cp310-win_amd64.pyd\n",
      "   from C:\\Users\\lmohsen\\AppData\\Local\\Temp\\pip-uninstall-zhmhnxe6\\_imagingft.cp310-win_amd64.pyd\n",
      "  Moving to c:\\users\\lmohsen\\anaconda3\\envs\\scientificproject\\lib\\site-packages\\pil\\_imagingmath.cp310-win_amd64.pyd\n",
      "   from C:\\Users\\lmohsen\\AppData\\Local\\Temp\\pip-uninstall-zhmhnxe6\\_imagingmath.cp310-win_amd64.pyd\n",
      "  Moving to c:\\users\\lmohsen\\anaconda3\\envs\\scientificproject\\lib\\site-packages\\pil\\_imagingmorph.cp310-win_amd64.pyd\n",
      "   from C:\\Users\\lmohsen\\AppData\\Local\\Temp\\pip-uninstall-zhmhnxe6\\_imagingmorph.cp310-win_amd64.pyd\n",
      "  Moving to c:\\users\\lmohsen\\anaconda3\\envs\\scientificproject\\lib\\site-packages\\pil\\_imagingtk.cp310-win_amd64.pyd\n",
      "   from C:\\Users\\lmohsen\\AppData\\Local\\Temp\\pip-uninstall-zhmhnxe6\\_imagingtk.cp310-win_amd64.pyd\n",
      "  Moving to c:\\users\\lmohsen\\anaconda3\\envs\\scientificproject\\lib\\site-packages\\pil\\_tkinter_finder.py\n",
      "   from C:\\Users\\lmohsen\\AppData\\Local\\Temp\\pip-uninstall-zhmhnxe6\\_tkinter_finder.py\n",
      "  Moving to c:\\users\\lmohsen\\anaconda3\\envs\\scientificproject\\lib\\site-packages\\pil\\_util.py\n",
      "   from C:\\Users\\lmohsen\\AppData\\Local\\Temp\\pip-uninstall-zhmhnxe6\\_util.py\n",
      "  Moving to c:\\users\\lmohsen\\anaconda3\\envs\\scientificproject\\lib\\site-packages\\pil\\_version.py\n",
      "   from C:\\Users\\lmohsen\\AppData\\Local\\Temp\\pip-uninstall-zhmhnxe6\\_version.py\n",
      "  Moving to c:\\users\\lmohsen\\anaconda3\\envs\\scientificproject\\lib\\site-packages\\pil\\_webp.cp310-win_amd64.pyd\n",
      "   from C:\\Users\\lmohsen\\AppData\\Local\\Temp\\pip-uninstall-zhmhnxe6\\_webp.cp310-win_amd64.pyd\n",
      "  Moving to c:\\users\\lmohsen\\anaconda3\\envs\\scientificproject\\lib\\site-packages\\pil\\bdffontfile.py\n",
      "   from C:\\Users\\lmohsen\\AppData\\Local\\Temp\\pip-uninstall-zhmhnxe6\\bdffontfile.py\n",
      "  Moving to c:\\users\\lmohsen\\anaconda3\\envs\\scientificproject\\lib\\site-packages\\pil\\blpimageplugin.py\n",
      "   from C:\\Users\\lmohsen\\AppData\\Local\\Temp\\pip-uninstall-zhmhnxe6\\blpimageplugin.py\n",
      "  Moving to c:\\users\\lmohsen\\anaconda3\\envs\\scientificproject\\lib\\site-packages\\pil\\bmpimageplugin.py\n",
      "   from C:\\Users\\lmohsen\\AppData\\Local\\Temp\\pip-uninstall-zhmhnxe6\\bmpimageplugin.py\n",
      "  Moving to c:\\users\\lmohsen\\anaconda3\\envs\\scientificproject\\lib\\site-packages\\pil\\bufrstubimageplugin.py\n",
      "   from C:\\Users\\lmohsen\\AppData\\Local\\Temp\\pip-uninstall-zhmhnxe6\\bufrstubimageplugin.py\n",
      "  Moving to c:\\users\\lmohsen\\anaconda3\\envs\\scientificproject\\lib\\site-packages\\pil\\containerio.py\n",
      "   from C:\\Users\\lmohsen\\AppData\\Local\\Temp\\pip-uninstall-zhmhnxe6\\containerio.py\n",
      "  Moving to c:\\users\\lmohsen\\anaconda3\\envs\\scientificproject\\lib\\site-packages\\pil\\curimageplugin.py\n",
      "   from C:\\Users\\lmohsen\\AppData\\Local\\Temp\\pip-uninstall-zhmhnxe6\\curimageplugin.py\n",
      "  Moving to c:\\users\\lmohsen\\anaconda3\\envs\\scientificproject\\lib\\site-packages\\pil\\dcximageplugin.py\n",
      "   from C:\\Users\\lmohsen\\AppData\\Local\\Temp\\pip-uninstall-zhmhnxe6\\dcximageplugin.py\n",
      "  Moving to c:\\users\\lmohsen\\anaconda3\\envs\\scientificproject\\lib\\site-packages\\pil\\ddsimageplugin.py\n",
      "   from C:\\Users\\lmohsen\\AppData\\Local\\Temp\\pip-uninstall-zhmhnxe6\\ddsimageplugin.py\n",
      "  Moving to c:\\users\\lmohsen\\anaconda3\\envs\\scientificproject\\lib\\site-packages\\pil\\epsimageplugin.py\n",
      "   from C:\\Users\\lmohsen\\AppData\\Local\\Temp\\pip-uninstall-zhmhnxe6\\epsimageplugin.py\n",
      "  Moving to c:\\users\\lmohsen\\anaconda3\\envs\\scientificproject\\lib\\site-packages\\pil\\exiftags.py\n",
      "   from C:\\Users\\lmohsen\\AppData\\Local\\Temp\\pip-uninstall-zhmhnxe6\\exiftags.py\n",
      "  Moving to c:\\users\\lmohsen\\anaconda3\\envs\\scientificproject\\lib\\site-packages\\pil\\features.py\n",
      "   from C:\\Users\\lmohsen\\AppData\\Local\\Temp\\pip-uninstall-zhmhnxe6\\features.py\n",
      "  Moving to c:\\users\\lmohsen\\anaconda3\\envs\\scientificproject\\lib\\site-packages\\pil\\fitsimageplugin.py\n",
      "   from C:\\Users\\lmohsen\\AppData\\Local\\Temp\\pip-uninstall-zhmhnxe6\\fitsimageplugin.py\n",
      "  Moving to c:\\users\\lmohsen\\anaconda3\\envs\\scientificproject\\lib\\site-packages\\pil\\fitsstubimageplugin.py\n",
      "   from C:\\Users\\lmohsen\\AppData\\Local\\Temp\\pip-uninstall-zhmhnxe6\\fitsstubimageplugin.py\n",
      "  Moving to c:\\users\\lmohsen\\anaconda3\\envs\\scientificproject\\lib\\site-packages\\pil\\fliimageplugin.py\n",
      "   from C:\\Users\\lmohsen\\AppData\\Local\\Temp\\pip-uninstall-zhmhnxe6\\fliimageplugin.py\n",
      "  Moving to c:\\users\\lmohsen\\anaconda3\\envs\\scientificproject\\lib\\site-packages\\pil\\fontfile.py\n",
      "   from C:\\Users\\lmohsen\\AppData\\Local\\Temp\\pip-uninstall-zhmhnxe6\\fontfile.py\n",
      "  Moving to c:\\users\\lmohsen\\anaconda3\\envs\\scientificproject\\lib\\site-packages\\pil\\fpximageplugin.py\n",
      "   from C:\\Users\\lmohsen\\AppData\\Local\\Temp\\pip-uninstall-zhmhnxe6\\fpximageplugin.py\n",
      "  Moving to c:\\users\\lmohsen\\anaconda3\\envs\\scientificproject\\lib\\site-packages\\pil\\fteximageplugin.py\n",
      "   from C:\\Users\\lmohsen\\AppData\\Local\\Temp\\pip-uninstall-zhmhnxe6\\fteximageplugin.py\n",
      "  Moving to c:\\users\\lmohsen\\anaconda3\\envs\\scientificproject\\lib\\site-packages\\pil\\gbrimageplugin.py\n",
      "   from C:\\Users\\lmohsen\\AppData\\Local\\Temp\\pip-uninstall-zhmhnxe6\\gbrimageplugin.py\n",
      "  Moving to c:\\users\\lmohsen\\anaconda3\\envs\\scientificproject\\lib\\site-packages\\pil\\gdimagefile.py\n",
      "   from C:\\Users\\lmohsen\\AppData\\Local\\Temp\\pip-uninstall-zhmhnxe6\\gdimagefile.py\n",
      "  Moving to c:\\users\\lmohsen\\anaconda3\\envs\\scientificproject\\lib\\site-packages\\pil\\gifimageplugin.py\n",
      "   from C:\\Users\\lmohsen\\AppData\\Local\\Temp\\pip-uninstall-zhmhnxe6\\gifimageplugin.py\n",
      "  Moving to c:\\users\\lmohsen\\anaconda3\\envs\\scientificproject\\lib\\site-packages\\pil\\gimpgradientfile.py\n",
      "   from C:\\Users\\lmohsen\\AppData\\Local\\Temp\\pip-uninstall-zhmhnxe6\\gimpgradientfile.py\n",
      "  Moving to c:\\users\\lmohsen\\anaconda3\\envs\\scientificproject\\lib\\site-packages\\pil\\gimppalettefile.py\n",
      "   from C:\\Users\\lmohsen\\AppData\\Local\\Temp\\pip-uninstall-zhmhnxe6\\gimppalettefile.py\n",
      "  Moving to c:\\users\\lmohsen\\anaconda3\\envs\\scientificproject\\lib\\site-packages\\pil\\gribstubimageplugin.py\n",
      "   from C:\\Users\\lmohsen\\AppData\\Local\\Temp\\pip-uninstall-zhmhnxe6\\gribstubimageplugin.py\n",
      "  Moving to c:\\users\\lmohsen\\anaconda3\\envs\\scientificproject\\lib\\site-packages\\pil\\hdf5stubimageplugin.py\n",
      "   from C:\\Users\\lmohsen\\AppData\\Local\\Temp\\pip-uninstall-zhmhnxe6\\hdf5stubimageplugin.py\n",
      "  Moving to c:\\users\\lmohsen\\anaconda3\\envs\\scientificproject\\lib\\site-packages\\pil\\icnsimageplugin.py\n",
      "   from C:\\Users\\lmohsen\\AppData\\Local\\Temp\\pip-uninstall-zhmhnxe6\\icnsimageplugin.py\n",
      "  Moving to c:\\users\\lmohsen\\anaconda3\\envs\\scientificproject\\lib\\site-packages\\pil\\icoimageplugin.py\n",
      "   from C:\\Users\\lmohsen\\AppData\\Local\\Temp\\pip-uninstall-zhmhnxe6\\icoimageplugin.py\n",
      "  Moving to c:\\users\\lmohsen\\anaconda3\\envs\\scientificproject\\lib\\site-packages\\pil\\image.py"
     ]
    },
    {
     "name": "stderr",
     "output_type": "stream",
     "text": [
      "  WARNING: No metadata found in c:\\users\\lmohsen\\anaconda3\\envs\\scientificproject\\lib\\site-packages\n",
      "ERROR: Could not install packages due to an OSError: [WinError 5] Zugriff verweigert: 'C:\\\\Users\\\\lmohsen\\\\anaconda3\\\\envs\\\\scientificProject\\\\Lib\\\\site-packages\\\\PIL\\\\msvcp140.dll'\n",
      "Consider using the `--user` option or check the permissions.\n",
      "\n"
     ]
    },
    {
     "name": "stdout",
     "output_type": "stream",
     "text": [
      "\n",
      "   from C:\\Users\\lmohsen\\AppData\\Local\\Temp\\pip-uninstall-zhmhnxe6\\image.py\n",
      "  Moving to c:\\users\\lmohsen\\anaconda3\\envs\\scientificproject\\lib\\site-packages\\pil\\imagechops.py\n",
      "   from C:\\Users\\lmohsen\\AppData\\Local\\Temp\\pip-uninstall-zhmhnxe6\\imagechops.py\n",
      "  Moving to c:\\users\\lmohsen\\anaconda3\\envs\\scientificproject\\lib\\site-packages\\pil\\imagecms.py\n",
      "   from C:\\Users\\lmohsen\\AppData\\Local\\Temp\\pip-uninstall-zhmhnxe6\\imagecms.py\n",
      "  Moving to c:\\users\\lmohsen\\anaconda3\\envs\\scientificproject\\lib\\site-packages\\pil\\imagecolor.py\n",
      "   from C:\\Users\\lmohsen\\AppData\\Local\\Temp\\pip-uninstall-zhmhnxe6\\imagecolor.py\n",
      "  Moving to c:\\users\\lmohsen\\anaconda3\\envs\\scientificproject\\lib\\site-packages\\pil\\imagedraw.py\n",
      "   from C:\\Users\\lmohsen\\AppData\\Local\\Temp\\pip-uninstall-zhmhnxe6\\imagedraw.py\n",
      "  Moving to c:\\users\\lmohsen\\anaconda3\\envs\\scientificproject\\lib\\site-packages\\pil\\imagedraw2.py\n",
      "   from C:\\Users\\lmohsen\\AppData\\Local\\Temp\\pip-uninstall-zhmhnxe6\\imagedraw2.py\n",
      "  Moving to c:\\users\\lmohsen\\anaconda3\\envs\\scientificproject\\lib\\site-packages\\pil\\imageenhance.py\n",
      "   from C:\\Users\\lmohsen\\AppData\\Local\\Temp\\pip-uninstall-zhmhnxe6\\imageenhance.py\n",
      "  Moving to c:\\users\\lmohsen\\anaconda3\\envs\\scientificproject\\lib\\site-packages\\pil\\imagefile.py\n",
      "   from C:\\Users\\lmohsen\\AppData\\Local\\Temp\\pip-uninstall-zhmhnxe6\\imagefile.py\n",
      "  Moving to c:\\users\\lmohsen\\anaconda3\\envs\\scientificproject\\lib\\site-packages\\pil\\imagefilter.py\n",
      "   from C:\\Users\\lmohsen\\AppData\\Local\\Temp\\pip-uninstall-zhmhnxe6\\imagefilter.py\n",
      "  Moving to c:\\users\\lmohsen\\anaconda3\\envs\\scientificproject\\lib\\site-packages\\pil\\imagefont.py\n",
      "   from C:\\Users\\lmohsen\\AppData\\Local\\Temp\\pip-uninstall-zhmhnxe6\\imagefont.py\n",
      "  Moving to c:\\users\\lmohsen\\anaconda3\\envs\\scientificproject\\lib\\site-packages\\pil\\imagegrab.py\n",
      "   from C:\\Users\\lmohsen\\AppData\\Local\\Temp\\pip-uninstall-zhmhnxe6\\imagegrab.py\n",
      "  Moving to c:\\users\\lmohsen\\anaconda3\\envs\\scientificproject\\lib\\site-packages\\pil\\imagemath.py\n",
      "   from C:\\Users\\lmohsen\\AppData\\Local\\Temp\\pip-uninstall-zhmhnxe6\\imagemath.py\n",
      "  Moving to c:\\users\\lmohsen\\anaconda3\\envs\\scientificproject\\lib\\site-packages\\pil\\imagemode.py\n",
      "   from C:\\Users\\lmohsen\\AppData\\Local\\Temp\\pip-uninstall-zhmhnxe6\\imagemode.py\n",
      "  Moving to c:\\users\\lmohsen\\anaconda3\\envs\\scientificproject\\lib\\site-packages\\pil\\imagemorph.py\n",
      "   from C:\\Users\\lmohsen\\AppData\\Local\\Temp\\pip-uninstall-zhmhnxe6\\imagemorph.py\n",
      "  Moving to c:\\users\\lmohsen\\anaconda3\\envs\\scientificproject\\lib\\site-packages\\pil\\imageops.py\n",
      "   from C:\\Users\\lmohsen\\AppData\\Local\\Temp\\pip-uninstall-zhmhnxe6\\imageops.py\n",
      "  Moving to c:\\users\\lmohsen\\anaconda3\\envs\\scientificproject\\lib\\site-packages\\pil\\imagepalette.py\n",
      "   from C:\\Users\\lmohsen\\AppData\\Local\\Temp\\pip-uninstall-zhmhnxe6\\imagepalette.py\n",
      "  Moving to c:\\users\\lmohsen\\anaconda3\\envs\\scientificproject\\lib\\site-packages\\pil\\imagepath.py\n",
      "   from C:\\Users\\lmohsen\\AppData\\Local\\Temp\\pip-uninstall-zhmhnxe6\\imagepath.py\n",
      "  Moving to c:\\users\\lmohsen\\anaconda3\\envs\\scientificproject\\lib\\site-packages\\pil\\imageqt.py\n",
      "   from C:\\Users\\lmohsen\\AppData\\Local\\Temp\\pip-uninstall-zhmhnxe6\\imageqt.py\n",
      "  Moving to c:\\users\\lmohsen\\anaconda3\\envs\\scientificproject\\lib\\site-packages\\pil\\imagesequence.py\n",
      "   from C:\\Users\\lmohsen\\AppData\\Local\\Temp\\pip-uninstall-zhmhnxe6\\imagesequence.py\n",
      "  Moving to c:\\users\\lmohsen\\anaconda3\\envs\\scientificproject\\lib\\site-packages\\pil\\imageshow.py\n",
      "   from C:\\Users\\lmohsen\\AppData\\Local\\Temp\\pip-uninstall-zhmhnxe6\\imageshow.py\n",
      "  Moving to c:\\users\\lmohsen\\anaconda3\\envs\\scientificproject\\lib\\site-packages\\pil\\imagestat.py\n",
      "   from C:\\Users\\lmohsen\\AppData\\Local\\Temp\\pip-uninstall-zhmhnxe6\\imagestat.py\n",
      "  Moving to c:\\users\\lmohsen\\anaconda3\\envs\\scientificproject\\lib\\site-packages\\pil\\imagetk.py\n",
      "   from C:\\Users\\lmohsen\\AppData\\Local\\Temp\\pip-uninstall-zhmhnxe6\\imagetk.py\n",
      "  Moving to c:\\users\\lmohsen\\anaconda3\\envs\\scientificproject\\lib\\site-packages\\pil\\imagetransform.py\n",
      "   from C:\\Users\\lmohsen\\AppData\\Local\\Temp\\pip-uninstall-zhmhnxe6\\imagetransform.py\n",
      "  Moving to c:\\users\\lmohsen\\anaconda3\\envs\\scientificproject\\lib\\site-packages\\pil\\imagewin.py\n",
      "   from C:\\Users\\lmohsen\\AppData\\Local\\Temp\\pip-uninstall-zhmhnxe6\\imagewin.py\n",
      "  Moving to c:\\users\\lmohsen\\anaconda3\\envs\\scientificproject\\lib\\site-packages\\pil\\imimageplugin.py\n",
      "   from C:\\Users\\lmohsen\\AppData\\Local\\Temp\\pip-uninstall-zhmhnxe6\\imimageplugin.py\n",
      "  Moving to c:\\users\\lmohsen\\anaconda3\\envs\\scientificproject\\lib\\site-packages\\pil\\imtimageplugin.py\n",
      "   from C:\\Users\\lmohsen\\AppData\\Local\\Temp\\pip-uninstall-zhmhnxe6\\imtimageplugin.py\n",
      "  Moving to c:\\users\\lmohsen\\anaconda3\\envs\\scientificproject\\lib\\site-packages\\pil\\iptcimageplugin.py\n",
      "   from C:\\Users\\lmohsen\\AppData\\Local\\Temp\\pip-uninstall-zhmhnxe6\\iptcimageplugin.py\n",
      "  Moving to c:\\users\\lmohsen\\anaconda3\\envs\\scientificproject\\lib\\site-packages\\pil\\jpeg2kimageplugin.py\n",
      "   from C:\\Users\\lmohsen\\AppData\\Local\\Temp\\pip-uninstall-zhmhnxe6\\jpeg2kimageplugin.py\n",
      "  Moving to c:\\users\\lmohsen\\anaconda3\\envs\\scientificproject\\lib\\site-packages\\pil\\jpegimageplugin.py\n",
      "   from C:\\Users\\lmohsen\\AppData\\Local\\Temp\\pip-uninstall-zhmhnxe6\\jpegimageplugin.py\n",
      "  Moving to c:\\users\\lmohsen\\anaconda3\\envs\\scientificproject\\lib\\site-packages\\pil\\jpegpresets.py\n",
      "   from C:\\Users\\lmohsen\\AppData\\Local\\Temp\\pip-uninstall-zhmhnxe6\\jpegpresets.py\n",
      "  Moving to c:\\users\\lmohsen\\anaconda3\\envs\\scientificproject\\lib\\site-packages\\pil\\mcidasimageplugin.py\n",
      "   from C:\\Users\\lmohsen\\AppData\\Local\\Temp\\pip-uninstall-zhmhnxe6\\mcidasimageplugin.py\n",
      "  Moving to c:\\users\\lmohsen\\anaconda3\\envs\\scientificproject\\lib\\site-packages\\pil\\micimageplugin.py\n",
      "   from C:\\Users\\lmohsen\\AppData\\Local\\Temp\\pip-uninstall-zhmhnxe6\\micimageplugin.py\n",
      "  Moving to c:\\users\\lmohsen\\anaconda3\\envs\\scientificproject\\lib\\site-packages\\pil\\mpegimageplugin.py\n",
      "   from C:\\Users\\lmohsen\\AppData\\Local\\Temp\\pip-uninstall-zhmhnxe6\\mpegimageplugin.py\n",
      "  Moving to c:\\users\\lmohsen\\anaconda3\\envs\\scientificproject\\lib\\site-packages\\pil\\mpoimageplugin.py\n",
      "   from C:\\Users\\lmohsen\\AppData\\Local\\Temp\\pip-uninstall-zhmhnxe6\\mpoimageplugin.py\n",
      "  Moving to c:\\users\\lmohsen\\anaconda3\\envs\\scientificproject\\lib\\site-packages\\pil\\mspimageplugin.py\n",
      "   from C:\\Users\\lmohsen\\AppData\\Local\\Temp\\pip-uninstall-zhmhnxe6\\mspimageplugin.py\n",
      "  Moving to c:\\users\\lmohsen\\anaconda3\\envs\\scientificproject\\lib\\site-packages\\pil\\palettefile.py\n",
      "   from C:\\Users\\lmohsen\\AppData\\Local\\Temp\\pip-uninstall-zhmhnxe6\\palettefile.py\n",
      "  Moving to c:\\users\\lmohsen\\anaconda3\\envs\\scientificproject\\lib\\site-packages\\pil\\palmimageplugin.py\n",
      "   from C:\\Users\\lmohsen\\AppData\\Local\\Temp\\pip-uninstall-zhmhnxe6\\palmimageplugin.py\n",
      "  Moving to c:\\users\\lmohsen\\anaconda3\\envs\\scientificproject\\lib\\site-packages\\pil\\pcdimageplugin.py\n",
      "   from C:\\Users\\lmohsen\\AppData\\Local\\Temp\\pip-uninstall-zhmhnxe6\\pcdimageplugin.py\n",
      "  Moving to c:\\users\\lmohsen\\anaconda3\\envs\\scientificproject\\lib\\site-packages\\pil\\pcffontfile.py\n",
      "   from C:\\Users\\lmohsen\\AppData\\Local\\Temp\\pip-uninstall-zhmhnxe6\\pcffontfile.py\n",
      "  Moving to c:\\users\\lmohsen\\anaconda3\\envs\\scientificproject\\lib\\site-packages\\pil\\pcximageplugin.py\n",
      "   from C:\\Users\\lmohsen\\AppData\\Local\\Temp\\pip-uninstall-zhmhnxe6\\pcximageplugin.py\n",
      "  Moving to c:\\users\\lmohsen\\anaconda3\\envs\\scientificproject\\lib\\site-packages\\pil\\pdfimageplugin.py\n",
      "   from C:\\Users\\lmohsen\\AppData\\Local\\Temp\\pip-uninstall-zhmhnxe6\\pdfimageplugin.py\n",
      "  Moving to c:\\users\\lmohsen\\anaconda3\\envs\\scientificproject\\lib\\site-packages\\pil\\pdfparser.py\n",
      "   from C:\\Users\\lmohsen\\AppData\\Local\\Temp\\pip-uninstall-zhmhnxe6\\pdfparser.py\n",
      "  Moving to c:\\users\\lmohsen\\anaconda3\\envs\\scientificproject\\lib\\site-packages\\pil\\pixarimageplugin.py\n",
      "   from C:\\Users\\lmohsen\\AppData\\Local\\Temp\\pip-uninstall-zhmhnxe6\\pixarimageplugin.py\n",
      "  Moving to c:\\users\\lmohsen\\anaconda3\\envs\\scientificproject\\lib\\site-packages\\pil\\pngimageplugin.py\n",
      "   from C:\\Users\\lmohsen\\AppData\\Local\\Temp\\pip-uninstall-zhmhnxe6\\pngimageplugin.py\n",
      "  Moving to c:\\users\\lmohsen\\anaconda3\\envs\\scientificproject\\lib\\site-packages\\pil\\ppmimageplugin.py\n",
      "   from C:\\Users\\lmohsen\\AppData\\Local\\Temp\\pip-uninstall-zhmhnxe6\\ppmimageplugin.py\n",
      "  Moving to c:\\users\\lmohsen\\anaconda3\\envs\\scientificproject\\lib\\site-packages\\pil\\psdimageplugin.py\n",
      "   from C:\\Users\\lmohsen\\AppData\\Local\\Temp\\pip-uninstall-zhmhnxe6\\psdimageplugin.py\n",
      "  Moving to c:\\users\\lmohsen\\anaconda3\\envs\\scientificproject\\lib\\site-packages\\pil\\psdraw.py\n",
      "   from C:\\Users\\lmohsen\\AppData\\Local\\Temp\\pip-uninstall-zhmhnxe6\\psdraw.py\n",
      "  Moving to c:\\users\\lmohsen\\anaconda3\\envs\\scientificproject\\lib\\site-packages\\pil\\pyaccess.py\n",
      "   from C:\\Users\\lmohsen\\AppData\\Local\\Temp\\pip-uninstall-zhmhnxe6\\pyaccess.py\n",
      "  Moving to c:\\users\\lmohsen\\anaconda3\\envs\\scientificproject\\lib\\site-packages\\pil\\sgiimageplugin.py\n",
      "   from C:\\Users\\lmohsen\\AppData\\Local\\Temp\\pip-uninstall-zhmhnxe6\\sgiimageplugin.py\n",
      "  Moving to c:\\users\\lmohsen\\anaconda3\\envs\\scientificproject\\lib\\site-packages\\pil\\spiderimageplugin.py\n",
      "   from C:\\Users\\lmohsen\\AppData\\Local\\Temp\\pip-uninstall-zhmhnxe6\\spiderimageplugin.py\n",
      "  Moving to c:\\users\\lmohsen\\anaconda3\\envs\\scientificproject\\lib\\site-packages\\pil\\sunimageplugin.py\n",
      "   from C:\\Users\\lmohsen\\AppData\\Local\\Temp\\pip-uninstall-zhmhnxe6\\sunimageplugin.py\n",
      "  Moving to c:\\users\\lmohsen\\anaconda3\\envs\\scientificproject\\lib\\site-packages\\pil\\tario.py\n",
      "   from C:\\Users\\lmohsen\\AppData\\Local\\Temp\\pip-uninstall-zhmhnxe6\\tario.py\n",
      "  Moving to c:\\users\\lmohsen\\anaconda3\\envs\\scientificproject\\lib\\site-packages\\pil\\tgaimageplugin.py\n",
      "   from C:\\Users\\lmohsen\\AppData\\Local\\Temp\\pip-uninstall-zhmhnxe6\\tgaimageplugin.py\n",
      "  Moving to c:\\users\\lmohsen\\anaconda3\\envs\\scientificproject\\lib\\site-packages\\pil\\tiffimageplugin.py\n",
      "   from C:\\Users\\lmohsen\\AppData\\Local\\Temp\\pip-uninstall-zhmhnxe6\\tiffimageplugin.py\n",
      "  Moving to c:\\users\\lmohsen\\anaconda3\\envs\\scientificproject\\lib\\site-packages\\pil\\tifftags.py\n",
      "   from C:\\Users\\lmohsen\\AppData\\Local\\Temp\\pip-uninstall-zhmhnxe6\\tifftags.py\n",
      "  Moving to c:\\users\\lmohsen\\anaconda3\\envs\\scientificproject\\lib\\site-packages\\pil\\walimagefile.py\n",
      "   from C:\\Users\\lmohsen\\AppData\\Local\\Temp\\pip-uninstall-zhmhnxe6\\walimagefile.py\n",
      "  Moving to c:\\users\\lmohsen\\anaconda3\\envs\\scientificproject\\lib\\site-packages\\pil\\webpimageplugin.py\n",
      "   from C:\\Users\\lmohsen\\AppData\\Local\\Temp\\pip-uninstall-zhmhnxe6\\webpimageplugin.py\n",
      "  Moving to c:\\users\\lmohsen\\anaconda3\\envs\\scientificproject\\lib\\site-packages\\pil\\wmfimageplugin.py\n",
      "   from C:\\Users\\lmohsen\\AppData\\Local\\Temp\\pip-uninstall-zhmhnxe6\\wmfimageplugin.py\n",
      "  Moving to c:\\users\\lmohsen\\anaconda3\\envs\\scientificproject\\lib\\site-packages\\pil\\xbmimageplugin.py\n",
      "   from C:\\Users\\lmohsen\\AppData\\Local\\Temp\\pip-uninstall-zhmhnxe6\\xbmimageplugin.py\n",
      "  Moving to c:\\users\\lmohsen\\anaconda3\\envs\\scientificproject\\lib\\site-packages\\pil\\xpmimageplugin.py\n",
      "   from C:\\Users\\lmohsen\\AppData\\Local\\Temp\\pip-uninstall-zhmhnxe6\\xpmimageplugin.py\n",
      "  Moving to c:\\users\\lmohsen\\anaconda3\\envs\\scientificproject\\lib\\site-packages\\pil\\xvthumbimageplugin.py\n",
      "   from C:\\Users\\lmohsen\\AppData\\Local\\Temp\\pip-uninstall-zhmhnxe6\\xvthumbimageplugin.py\n",
      "  Moving to c:\\users\\lmohsen\\anaconda3\\envs\\scientificproject\\lib\\site-packages\\pillow-9.3.0-py3.10.egg-info\n",
      "   from C:\\Users\\lmohsen\\anaconda3\\envs\\scientificProject\\Lib\\site-packages\\~illow-9.3.0-py3.10.egg-info\n"
     ]
    }
   ],
   "source": [
    "# # upgrade pip\n",
    "!pip install --upgrade pip\n",
    "\n",
    "# # Install dependencies\n",
    "!pip install CityLearn scikit-learn==1.0.2 torch==1.12.0 torchvision==0.13.0"
   ]
  },
  {
   "cell_type": "code",
   "execution_count": 4,
   "metadata": {
    "pycharm": {
     "name": "#%%\n"
    }
   },
   "outputs": [
    {
     "ename": "ImportError",
     "evalue": "cannot import name 'Image' from 'PIL' (C:\\Users\\lmohsen\\anaconda3\\envs\\scientificProject\\lib\\site-packages\\PIL\\__init__.py)",
     "output_type": "error",
     "traceback": [
      "\u001B[1;31m---------------------------------------------------------------------------\u001B[0m",
      "\u001B[1;31mImportError\u001B[0m                               Traceback (most recent call last)",
      "\u001B[1;32m~\\AppData\\Local\\Temp\\ipykernel_19868\\1231296609.py\u001B[0m in \u001B[0;36m<module>\u001B[1;34m\u001B[0m\n\u001B[0;32m      5\u001B[0m \u001B[1;32mfrom\u001B[0m \u001B[0mcitylearn\u001B[0m\u001B[1;33m.\u001B[0m\u001B[0magents\u001B[0m\u001B[1;33m.\u001B[0m\u001B[0mrbc\u001B[0m \u001B[1;32mimport\u001B[0m \u001B[0mOptimizedRBC\u001B[0m \u001B[1;32mas\u001B[0m \u001B[0mRBCAgent\u001B[0m\u001B[1;33m\u001B[0m\u001B[1;33m\u001B[0m\u001B[0m\n\u001B[0;32m      6\u001B[0m \u001B[1;32mfrom\u001B[0m \u001B[0mcitylearn\u001B[0m\u001B[1;33m.\u001B[0m\u001B[0magents\u001B[0m\u001B[1;33m.\u001B[0m\u001B[0msac\u001B[0m \u001B[1;32mimport\u001B[0m \u001B[0mSACOptimizedRBC\u001B[0m \u001B[1;32mas\u001B[0m \u001B[0mSACAgent\u001B[0m\u001B[1;33m\u001B[0m\u001B[1;33m\u001B[0m\u001B[0m\n\u001B[1;32m----> 7\u001B[1;33m \u001B[1;32mfrom\u001B[0m \u001B[0mcitylearn\u001B[0m\u001B[1;33m.\u001B[0m\u001B[0mcitylearn\u001B[0m \u001B[1;32mimport\u001B[0m \u001B[0mCityLearnEnv\u001B[0m\u001B[1;33m\u001B[0m\u001B[1;33m\u001B[0m\u001B[0m\n\u001B[0m\u001B[0;32m      8\u001B[0m \u001B[1;32mfrom\u001B[0m \u001B[0mcitylearn\u001B[0m\u001B[1;33m.\u001B[0m\u001B[0mcost_function\u001B[0m \u001B[1;32mimport\u001B[0m \u001B[0mCostFunction\u001B[0m\u001B[1;33m\u001B[0m\u001B[1;33m\u001B[0m\u001B[0m\n\u001B[0;32m      9\u001B[0m \u001B[1;32mimport\u001B[0m \u001B[0mpandas\u001B[0m \u001B[1;32mas\u001B[0m \u001B[0mpd\u001B[0m\u001B[1;33m\u001B[0m\u001B[1;33m\u001B[0m\u001B[0m\n",
      "\u001B[1;32m~\\PycharmProjects\\CityLearn\\citylearn\\citylearn.py\u001B[0m in \u001B[0;36m<module>\u001B[1;34m\u001B[0m\n\u001B[0;32m     13\u001B[0m \u001B[1;32mfrom\u001B[0m \u001B[0mcitylearn\u001B[0m\u001B[1;33m.\u001B[0m\u001B[0mreward_function\u001B[0m \u001B[1;32mimport\u001B[0m \u001B[0mRewardFunction\u001B[0m\u001B[1;33m\u001B[0m\u001B[1;33m\u001B[0m\u001B[0m\n\u001B[0;32m     14\u001B[0m \u001B[1;32mfrom\u001B[0m \u001B[0mcitylearn\u001B[0m\u001B[1;33m.\u001B[0m\u001B[0mutilities\u001B[0m \u001B[1;32mimport\u001B[0m \u001B[0mread_json\u001B[0m\u001B[1;33m\u001B[0m\u001B[1;33m\u001B[0m\u001B[0m\n\u001B[1;32m---> 15\u001B[1;33m \u001B[1;32mfrom\u001B[0m \u001B[0mcitylearn\u001B[0m\u001B[1;33m.\u001B[0m\u001B[0mrendering\u001B[0m \u001B[1;32mimport\u001B[0m \u001B[0mget_background\u001B[0m\u001B[1;33m,\u001B[0m \u001B[0mRenderBuilding\u001B[0m\u001B[1;33m,\u001B[0m \u001B[0mget_plots\u001B[0m\u001B[1;33m\u001B[0m\u001B[1;33m\u001B[0m\u001B[0m\n\u001B[0m\u001B[0;32m     16\u001B[0m \u001B[1;33m\u001B[0m\u001B[0m\n\u001B[0;32m     17\u001B[0m \u001B[1;32mclass\u001B[0m \u001B[0mCityLearnEnv\u001B[0m\u001B[1;33m(\u001B[0m\u001B[0mEnvironment\u001B[0m\u001B[1;33m,\u001B[0m \u001B[0mEnv\u001B[0m\u001B[1;33m)\u001B[0m\u001B[1;33m:\u001B[0m\u001B[1;33m\u001B[0m\u001B[1;33m\u001B[0m\u001B[0m\n",
      "\u001B[1;32m~\\PycharmProjects\\CityLearn\\citylearn\\rendering.py\u001B[0m in \u001B[0;36m<module>\u001B[1;34m\u001B[0m\n\u001B[0;32m      1\u001B[0m \u001B[1;32mimport\u001B[0m \u001B[0mmath\u001B[0m\u001B[1;33m\u001B[0m\u001B[1;33m\u001B[0m\u001B[0m\n\u001B[0;32m      2\u001B[0m \u001B[1;32mimport\u001B[0m \u001B[0mos\u001B[0m\u001B[1;33m\u001B[0m\u001B[1;33m\u001B[0m\u001B[0m\n\u001B[1;32m----> 3\u001B[1;33m \u001B[1;32mfrom\u001B[0m \u001B[0mPIL\u001B[0m \u001B[1;32mimport\u001B[0m \u001B[0mImage\u001B[0m\u001B[1;33m,\u001B[0m \u001B[0mImageDraw\u001B[0m\u001B[1;33m\u001B[0m\u001B[1;33m\u001B[0m\u001B[0m\n\u001B[0m\u001B[0;32m      4\u001B[0m \u001B[1;32mimport\u001B[0m \u001B[0mnumpy\u001B[0m \u001B[1;32mas\u001B[0m \u001B[0mnp\u001B[0m\u001B[1;33m\u001B[0m\u001B[1;33m\u001B[0m\u001B[0m\n\u001B[0;32m      5\u001B[0m \u001B[1;33m\u001B[0m\u001B[0m\n",
      "\u001B[1;31mImportError\u001B[0m: cannot import name 'Image' from 'PIL' (C:\\Users\\lmohsen\\anaconda3\\envs\\scientificProject\\lib\\site-packages\\PIL\\__init__.py)"
     ]
    }
   ],
   "source": [
    " # Import dependencies\n",
    "import math\n",
    "from pathlib import Path\n",
    "\n",
    "import pandas as pd\n",
    "\n",
    "from citylearn.agents.rbc import OptimizedRBC as RBCAgent\n",
    "from citylearn.agents.sac import SACOptimizedRBC as SACAgent\n",
    "from citylearn.citylearn import CityLearnEnv\n",
    "from citylearn.cost_function import CostFunction"
   ]
  },
  {
   "attachments": {},
   "cell_type": "markdown",
   "metadata": {
    "pycharm": {
     "name": "#%% md\n"
    }
   },
   "source": [
    "# Helper Functions\n",
    "***"
   ]
  },
  {
   "cell_type": "code",
   "execution_count": null,
   "metadata": {
    "pycharm": {
     "name": "#%%\n"
    }
   },
   "outputs": [],
   "source": [
    "# Function to calculate KPIs\n",
    "def get_kpis(env):\n",
    "    ## building level\n",
    "    building_kpis = []\n",
    "\n",
    "    for b in env.buildings:\n",
    "        building_kpis += [{\n",
    "            'building_name': b.name,\n",
    "            'kpi': 'electricity_consumption',\n",
    "            'value': CostFunction.net_electricity_consumption(b.net_electricity_consumption)[-1]/\\\n",
    "                CostFunction.net_electricity_consumption(b.net_electricity_consumption_without_storage)[-1],\n",
    "            }, {\n",
    "            'building_name': b.name,\n",
    "            'kpi': 'carbon_emissions',\n",
    "            'value': CostFunction.carbon_emissions(b.net_electricity_consumption_emission)[-1]/\\\n",
    "                CostFunction.carbon_emissions(b.net_electricity_consumption_without_storage_emission)[-1],\n",
    "            }, {\n",
    "            'building_name': b.name,\n",
    "            'kpi': 'zero_net_energy',\n",
    "            'value': sum(b.net_electricity_consumption)/\\\n",
    "                sum(b.net_electricity_consumption_without_storage),\n",
    "            }]\n",
    "\n",
    "    building_kpis = pd.DataFrame(building_kpis)\n",
    "    building_kpis['level'] = 'building'\n",
    "\n",
    "    ## district level\n",
    "    district_kpis = pd.DataFrame([{\n",
    "        'kpi': 'ramping',\n",
    "        'value': CostFunction.ramping(env.net_electricity_consumption)[-1]/\\\n",
    "            CostFunction.ramping(env.net_electricity_consumption_without_storage)[-1],\n",
    "        }, {\n",
    "        'kpi': '1 - load_factor',\n",
    "        'value': CostFunction.load_factor(env.net_electricity_consumption)[-1]/\\\n",
    "            CostFunction.load_factor(env.net_electricity_consumption_without_storage)[-1],\n",
    "        }, {\n",
    "        'kpi': 'average_daily_peak',\n",
    "        'value': CostFunction.average_daily_peak(env.net_electricity_consumption)[-1]/\\\n",
    "            CostFunction.average_daily_peak(env.net_electricity_consumption_without_storage)[-1],\n",
    "        }, {\n",
    "        'kpi': 'peak_demand',\n",
    "        'value': CostFunction.peak_demand(env.net_electricity_consumption)[-1]/\\\n",
    "            CostFunction.peak_demand(env.net_electricity_consumption_without_storage)[-1],\n",
    "        }])\n",
    "\n",
    "    district_kpis = pd.concat([district_kpis, building_kpis], ignore_index=True, sort=False)\n",
    "    district_kpis = district_kpis.groupby(['kpi'])[['value']].mean().reset_index()\n",
    "    district_kpis['building_name'] = 'District'\n",
    "    district_kpis['level'] = 'district'\n",
    "    kpis = pd.concat([district_kpis, building_kpis], ignore_index=True, sort=False)\n",
    "\n",
    "    return kpis\n",
    "\n",
    "def parse_kpis(kpis):\n",
    "    kpis['value'] = kpis['value'].round(3)\n",
    "    kpis = kpis.pivot(index='kpi', columns='building_name', values='value')\n",
    "    kpis = kpis.to_dict()\n",
    "    kpis = {b: {kpi: v for kpi, v in b_kpis.items() if not math.isnan(v)} for b, b_kpis in kpis.items()}\n",
    "\n",
    "    return kpis"
   ]
  },
  {
   "attachments": {},
   "cell_type": "markdown",
   "metadata": {
    "pycharm": {
     "name": "#%% md\n"
    }
   },
   "source": [
    "# RBC Agent\n",
    "***\n",
    "Use the RBC agent to control the CityLearn Challenge 2022 Phase I environment."
   ]
  },
  {
   "cell_type": "code",
   "execution_count": 2,
   "metadata": {
    "pycharm": {
     "name": "#%%\n"
    }
   },
   "outputs": [
    {
     "ename": "NameError",
     "evalue": "name 'Path' is not defined",
     "output_type": "error",
     "traceback": [
      "\u001B[1;31m---------------------------------------------------------------------------\u001B[0m",
      "\u001B[1;31mNameError\u001B[0m                                 Traceback (most recent call last)",
      "\u001B[1;32m~\\AppData\\Local\\Temp\\ipykernel_19868\\3137078404.py\u001B[0m in \u001B[0;36m<module>\u001B[1;34m\u001B[0m\n\u001B[1;32m----> 1\u001B[1;33m \u001B[0mschema\u001B[0m \u001B[1;33m=\u001B[0m \u001B[0mPath\u001B[0m\u001B[1;33m(\u001B[0m\u001B[1;34m'../citylearn/data/citylearn_challenge_2022_phase_1/schema.json'\u001B[0m\u001B[1;33m)\u001B[0m \u001B[1;31m# replace with applicable path to schema\u001B[0m\u001B[1;33m\u001B[0m\u001B[1;33m\u001B[0m\u001B[0m\n\u001B[0m\u001B[0;32m      2\u001B[0m \u001B[0menv\u001B[0m \u001B[1;33m=\u001B[0m \u001B[0mCityLearnEnv\u001B[0m\u001B[1;33m(\u001B[0m\u001B[0mschema\u001B[0m\u001B[1;33m)\u001B[0m\u001B[1;33m\u001B[0m\u001B[1;33m\u001B[0m\u001B[0m\n\u001B[0;32m      3\u001B[0m agents = RBCAgent(\n\u001B[0;32m      4\u001B[0m     \u001B[0maction_space\u001B[0m\u001B[1;33m=\u001B[0m\u001B[0menv\u001B[0m\u001B[1;33m.\u001B[0m\u001B[0maction_space\u001B[0m\u001B[1;33m,\u001B[0m\u001B[1;33m\u001B[0m\u001B[1;33m\u001B[0m\u001B[0m\n\u001B[0;32m      5\u001B[0m     \u001B[0mobservation_space\u001B[0m\u001B[1;33m=\u001B[0m\u001B[0menv\u001B[0m\u001B[1;33m.\u001B[0m\u001B[0mobservation_space\u001B[0m\u001B[1;33m,\u001B[0m\u001B[1;33m\u001B[0m\u001B[1;33m\u001B[0m\u001B[0m\n",
      "\u001B[1;31mNameError\u001B[0m: name 'Path' is not defined"
     ]
    }
   ],
   "source": [
    "schema = Path('../citylearn/data/citylearn_challenge_2022_phase_1/schema.json') # replace with applicable path to schema\n",
    "env = CityLearnEnv(schema)\n",
    "agents = RBCAgent(\n",
    "    action_space=env.action_space,\n",
    "    observation_space=env.observation_space,\n",
    "    building_information=env.get_building_information(),\n",
    "    observation_names=env.observation_names,\n",
    ")\n",
    "observations = env.reset()\n",
    "\n",
    "while not env.done:\n",
    "    actions = agents.select_actions(observations)\n",
    "\n",
    "    # apply actions to env\n",
    "    observations, rewards, _, _ = env.step(actions)\n",
    "\n",
    "print('KPIs:', parse_kpis(get_kpis(env)))"
   ]
  },
  {
   "attachments": {},
   "cell_type": "markdown",
   "metadata": {
    "pycharm": {
     "name": "#%% md\n"
    }
   },
   "source": [
    "# SAC Agent\n",
    "***\n",
    "Use the SAC agent to control the CityLearn Challenge 2022 Phase I environment."
   ]
  },
  {
   "cell_type": "code",
   "execution_count": 5,
   "metadata": {
    "pycharm": {
     "name": "#%%\n"
    }
   },
   "outputs": [
    {
     "name": "stdout",
     "output_type": "stream",
     "text": [
      "Episode: 0 ; KPIs: {'Building_1': {'carbon_emissions': 1.035, 'electricity_consumption': 1.057, 'zero_net_energy': 1.06}, 'Building_2': {'carbon_emissions': 1.067, 'electricity_consumption': 1.079, 'zero_net_energy': 1.041}, 'Building_3': {'carbon_emissions': 1.066, 'electricity_consumption': 1.089, 'zero_net_energy': 1.091}, 'Building_4': {'carbon_emissions': 1.062, 'electricity_consumption': 1.076, 'zero_net_energy': 1.032}, 'Building_5': {'carbon_emissions': 1.07, 'electricity_consumption': 1.098, 'zero_net_energy': 1.052}, 'District': {'1 - load_factor': 0.99, 'average_daily_peak': 1.021, 'carbon_emissions': 1.06, 'electricity_consumption': 1.08, 'peak_demand': 0.992, 'ramping': 1.128, 'zero_net_energy': 1.055}}\n",
      "Episode: 1 ; KPIs: {'Building_1': {'carbon_emissions': 1.009, 'electricity_consumption': 1.011, 'zero_net_energy': 1.104}, 'Building_2': {'carbon_emissions': 1.073, 'electricity_consumption': 1.074, 'zero_net_energy': 1.078}, 'Building_3': {'carbon_emissions': 1.185, 'electricity_consumption': 1.185, 'zero_net_energy': 1.208}, 'Building_4': {'carbon_emissions': 1.145, 'electricity_consumption': 1.142, 'zero_net_energy': 1.067}, 'Building_5': {'carbon_emissions': 1.064, 'electricity_consumption': 1.072, 'zero_net_energy': 1.054}, 'District': {'1 - load_factor': 0.995, 'average_daily_peak': 1.07, 'carbon_emissions': 1.095, 'electricity_consumption': 1.097, 'peak_demand': 0.982, 'ramping': 1.333, 'zero_net_energy': 1.102}}\n",
      "Episode: 2 ; KPIs: {'Building_1': {'carbon_emissions': 0.961, 'electricity_consumption': 0.967, 'zero_net_energy': 1.104}, 'Building_2': {'carbon_emissions': 1.04, 'electricity_consumption': 1.044, 'zero_net_energy': 1.076}, 'Building_3': {'carbon_emissions': 1.093, 'electricity_consumption': 1.095, 'zero_net_energy': 1.159}, 'Building_4': {'carbon_emissions': 1.104, 'electricity_consumption': 1.102, 'zero_net_energy': 1.056}, 'Building_5': {'carbon_emissions': 1.041, 'electricity_consumption': 1.051, 'zero_net_energy': 1.062}, 'District': {'1 - load_factor': 0.996, 'average_daily_peak': 0.99, 'carbon_emissions': 1.048, 'electricity_consumption': 1.052, 'peak_demand': 1.083, 'ramping': 1.221, 'zero_net_energy': 1.091}}\n",
      "Episode: 3 ; KPIs: {'Building_1': {'carbon_emissions': 0.896, 'electricity_consumption': 0.905, 'zero_net_energy': 1.109}, 'Building_2': {'carbon_emissions': 0.958, 'electricity_consumption': 0.959, 'zero_net_energy': 1.062}, 'Building_3': {'carbon_emissions': 1.0, 'electricity_consumption': 1.002, 'zero_net_energy': 1.095}, 'Building_4': {'carbon_emissions': 1.03, 'electricity_consumption': 1.026, 'zero_net_energy': 1.035}, 'Building_5': {'carbon_emissions': 1.036, 'electricity_consumption': 1.044, 'zero_net_energy': 1.056}, 'District': {'1 - load_factor': 0.988, 'average_daily_peak': 0.93, 'carbon_emissions': 0.984, 'electricity_consumption': 0.987, 'peak_demand': 0.929, 'ramping': 1.104, 'zero_net_energy': 1.071}}\n",
      "Episode: 4 ; KPIs: {'Building_1': {'carbon_emissions': 0.849, 'electricity_consumption': 0.861, 'zero_net_energy': 1.104}, 'Building_2': {'carbon_emissions': 0.921, 'electricity_consumption': 0.927, 'zero_net_energy': 1.061}, 'Building_3': {'carbon_emissions': 0.97, 'electricity_consumption': 0.969, 'zero_net_energy': 1.07}, 'Building_4': {'carbon_emissions': 0.993, 'electricity_consumption': 0.989, 'zero_net_energy': 1.017}, 'Building_5': {'carbon_emissions': 0.995, 'electricity_consumption': 1.001, 'zero_net_energy': 1.035}, 'District': {'1 - load_factor': 0.985, 'average_daily_peak': 0.901, 'carbon_emissions': 0.945, 'electricity_consumption': 0.949, 'peak_demand': 0.92, 'ramping': 0.998, 'zero_net_energy': 1.057}}\n",
      "Episode: 5 ; KPIs: {'Building_1': {'carbon_emissions': 0.822, 'electricity_consumption': 0.838, 'zero_net_energy': 1.104}, 'Building_2': {'carbon_emissions': 0.888, 'electricity_consumption': 0.895, 'zero_net_energy': 1.065}, 'Building_3': {'carbon_emissions': 0.952, 'electricity_consumption': 0.953, 'zero_net_energy': 1.073}, 'Building_4': {'carbon_emissions': 0.988, 'electricity_consumption': 0.986, 'zero_net_energy': 1.013}, 'Building_5': {'carbon_emissions': 0.976, 'electricity_consumption': 0.984, 'zero_net_energy': 1.025}, 'District': {'1 - load_factor': 0.975, 'average_daily_peak': 0.88, 'carbon_emissions': 0.925, 'electricity_consumption': 0.931, 'peak_demand': 0.878, 'ramping': 0.955, 'zero_net_energy': 1.056}}\n",
      "Episode: 6 ; KPIs: {'Building_1': {'carbon_emissions': 0.817, 'electricity_consumption': 0.833, 'zero_net_energy': 1.104}, 'Building_2': {'carbon_emissions': 0.867, 'electricity_consumption': 0.875, 'zero_net_energy': 1.071}, 'Building_3': {'carbon_emissions': 0.934, 'electricity_consumption': 0.933, 'zero_net_energy': 1.084}, 'Building_4': {'carbon_emissions': 0.98, 'electricity_consumption': 0.979, 'zero_net_energy': 1.014}, 'Building_5': {'carbon_emissions': 0.973, 'electricity_consumption': 0.981, 'zero_net_energy': 1.024}, 'District': {'1 - load_factor': 0.973, 'average_daily_peak': 0.868, 'carbon_emissions': 0.914, 'electricity_consumption': 0.92, 'peak_demand': 0.86, 'ramping': 0.949, 'zero_net_energy': 1.059}}\n",
      "Episode: 7 ; KPIs: {'Building_1': {'carbon_emissions': 0.809, 'electricity_consumption': 0.826, 'zero_net_energy': 1.103}, 'Building_2': {'carbon_emissions': 0.86, 'electricity_consumption': 0.868, 'zero_net_energy': 1.07}, 'Building_3': {'carbon_emissions': 0.929, 'electricity_consumption': 0.926, 'zero_net_energy': 1.088}, 'Building_4': {'carbon_emissions': 0.978, 'electricity_consumption': 0.976, 'zero_net_energy': 1.015}, 'Building_5': {'carbon_emissions': 0.968, 'electricity_consumption': 0.976, 'zero_net_energy': 1.024}, 'District': {'1 - load_factor': 0.977, 'average_daily_peak': 0.864, 'carbon_emissions': 0.909, 'electricity_consumption': 0.914, 'peak_demand': 0.902, 'ramping': 0.942, 'zero_net_energy': 1.06}}\n",
      "Episode: 8 ; KPIs: {'Building_1': {'carbon_emissions': 0.804, 'electricity_consumption': 0.821, 'zero_net_energy': 1.102}, 'Building_2': {'carbon_emissions': 0.854, 'electricity_consumption': 0.862, 'zero_net_energy': 1.072}, 'Building_3': {'carbon_emissions': 0.919, 'electricity_consumption': 0.918, 'zero_net_energy': 1.093}, 'Building_4': {'carbon_emissions': 0.973, 'electricity_consumption': 0.971, 'zero_net_energy': 1.016}, 'Building_5': {'carbon_emissions': 0.964, 'electricity_consumption': 0.973, 'zero_net_energy': 1.027}, 'District': {'1 - load_factor': 0.977, 'average_daily_peak': 0.859, 'carbon_emissions': 0.903, 'electricity_consumption': 0.909, 'peak_demand': 0.886, 'ramping': 0.94, 'zero_net_energy': 1.062}}\n",
      "Episode: 9 ; KPIs: {'Building_1': {'carbon_emissions': 0.801, 'electricity_consumption': 0.817, 'zero_net_energy': 1.102}, 'Building_2': {'carbon_emissions': 0.848, 'electricity_consumption': 0.856, 'zero_net_energy': 1.073}, 'Building_3': {'carbon_emissions': 0.914, 'electricity_consumption': 0.913, 'zero_net_energy': 1.101}, 'Building_4': {'carbon_emissions': 0.969, 'electricity_consumption': 0.968, 'zero_net_energy': 1.016}, 'Building_5': {'carbon_emissions': 0.963, 'electricity_consumption': 0.972, 'zero_net_energy': 1.026}, 'District': {'1 - load_factor': 0.978, 'average_daily_peak': 0.856, 'carbon_emissions': 0.899, 'electricity_consumption': 0.905, 'peak_demand': 0.917, 'ramping': 0.932, 'zero_net_energy': 1.064}}\n"
     ]
    }
   ],
   "source": [
    "schema = Path('../citylearn/data/citylearn_challenge_2022_phase_1/schema.json') # replace with applicable path to schema\n",
    "env = CityLearnEnv(schema)\n",
    "agents = SACAgent(\n",
    "    building_ids=[b.uid for b in env.buildings],\n",
    "    action_space=env.action_space,\n",
    "    observation_space=env.observation_space,\n",
    "    building_information=env.get_building_information(),\n",
    "    observation_names=env.observation_names,\n",
    "    hidden_dimension=[256, 256],\n",
    "    discount=0.99,\n",
    "    tau=0.005,\n",
    "    lr=0.003,\n",
    "    batch_size=256,\n",
    "    replay_buffer_capacity=1e5,\n",
    "    start_training_time_step=6000,\n",
    "    end_exploration_time_step=7000,\n",
    "    deterministic_start_time_step=7500,\n",
    "    action_scaling_coef=0.5,\n",
    "    reward_scaling=5.0,\n",
    "    update_per_time_step=2\n",
    ")\n",
    "episodes = 10 # number of training episodes\n",
    "\n",
    "for e in range(episodes):\n",
    "    observations = env.reset()\n",
    "\n",
    "    while not env.done:\n",
    "        actions = agents.select_actions(observations)\n",
    "\n",
    "        # apply actions to env\n",
    "        next_observations, rewards, _, _ = env.step(actions)\n",
    "\n",
    "        # update agents\n",
    "        agents.add_to_buffer(observations, actions, rewards, next_observations, done=env.done)\n",
    "        observations = [o for o in next_observations]\n",
    "\n",
    "    print('Episode:', e, '; KPIs:', parse_kpis(get_kpis(env)))"
   ]
  }
 ],
 "metadata": {
  "kernelspec": {
   "display_name": "test_env",
   "language": "python",
   "name": "python3"
  },
  "language_info": {
   "codemirror_mode": {
    "name": "ipython",
    "version": 3
   },
   "file_extension": ".py",
   "mimetype": "text/x-python",
   "name": "python",
   "nbconvert_exporter": "python",
   "pygments_lexer": "ipython3",
   "version": "3.7.7"
  },
  "orig_nbformat": 4,
  "vscode": {
   "interpreter": {
    "hash": "24d13602916ce501dab33551801634a98323f75b1378db411e4ca12af6dc15d7"
   }
  }
 },
 "nbformat": 4,
 "nbformat_minor": 2
}